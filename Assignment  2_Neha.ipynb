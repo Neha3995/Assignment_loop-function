{
 "cells": [
  {
   "cell_type": "markdown",
   "id": "0fa155fd-0cf8-48e6-a689-7e5367183df1",
   "metadata": {},
   "source": [
    "Q1. Which keyword is used to create a function? Create a function to return a list of odd numbers in the\n",
    "range of 1 to 25."
   ]
  },
  {
   "cell_type": "code",
   "execution_count": null,
   "id": "e6731662-9a53-4d3d-9619-63da5a06b651",
   "metadata": {},
   "outputs": [],
   "source": [
    "def keyword"
   ]
  },
  {
   "cell_type": "code",
   "execution_count": 19,
   "id": "7dd660a0-136d-42f4-ab93-5f96231e9d55",
   "metadata": {},
   "outputs": [],
   "source": [
    "def oddnumber():\n",
    "    num= []\n",
    "    for i in range(1,26):\n",
    "        if i %2 !=0:\n",
    "            num.append(i)\n",
    "    return num"
   ]
  },
  {
   "cell_type": "code",
   "execution_count": 23,
   "id": "52ef1aad-13ff-4ee8-9b1b-853def8554f9",
   "metadata": {},
   "outputs": [
    {
     "data": {
      "text/plain": [
       "[1, 3, 5, 7, 9, 11, 13, 15, 17, 19, 21, 23, 25]"
      ]
     },
     "execution_count": 23,
     "metadata": {},
     "output_type": "execute_result"
    }
   ],
   "source": [
    "oddnumber()"
   ]
  },
  {
   "cell_type": "markdown",
   "id": "bd916325-5b39-4056-b3d6-551aa7536a06",
   "metadata": {},
   "source": [
    "Q2. Why *args and **kwargs is used in some functions? Create a function each for *args and **kwargs\n",
    "to demonstrate their use."
   ]
  },
  {
   "cell_type": "code",
   "execution_count": null,
   "id": "7bed1a88-2ba2-4709-b062-36b7240bfe4e",
   "metadata": {},
   "outputs": [],
   "source": [
    "*args is Non Keyword argument while **kwargs is Keyword Argument"
   ]
  },
  {
   "cell_type": "code",
   "execution_count": 28,
   "id": "7cb4e690-ff3d-4130-afac-14170255a02a",
   "metadata": {},
   "outputs": [],
   "source": [
    "def add(*args):\n",
    "    print(args,)"
   ]
  },
  {
   "cell_type": "code",
   "execution_count": 29,
   "id": "e506953c-54db-4a60-8c45-7d0e32de76d8",
   "metadata": {},
   "outputs": [
    {
     "name": "stdout",
     "output_type": "stream",
     "text": [
      "(2, 4, 56, 7, 8, 443, 12)\n"
     ]
    }
   ],
   "source": [
    "add(2,4,56,7,8,443,12)"
   ]
  },
  {
   "cell_type": "code",
   "execution_count": 30,
   "id": "4da55e44-f96f-405d-8e22-099f26f59956",
   "metadata": {},
   "outputs": [
    {
     "name": "stdout",
     "output_type": "stream",
     "text": [
      "(1, 3, 6, 8, 4.56, 23.45, 23, 4, 6, 766, 322, 12, 34)\n"
     ]
    }
   ],
   "source": [
    "add(1,3,6,8,4.56,23.45,23,4,6,766,322,12,34)"
   ]
  },
  {
   "cell_type": "code",
   "execution_count": 41,
   "id": "a250b1bd-c9dd-4fb1-8450-eab210c1285a",
   "metadata": {},
   "outputs": [
    {
     "name": "stdout",
     "output_type": "stream",
     "text": [
      "{'Neha': 'Anand', 'Rahul': 'Pune', 'Sourav': 'Kolkatte', 'Raj': 'Mumbai'}\n"
     ]
    }
   ],
   "source": [
    "def name(**kwargs):\n",
    "    print(kwargs)\n",
    "name(Neha=\"Anand\", Rahul=\"Pune\", Sourav=\"Kolkatte\", Raj=\"Mumbai\")"
   ]
  },
  {
   "cell_type": "markdown",
   "id": "b20b1db3-4853-4d84-98c4-31c48c2bf96d",
   "metadata": {},
   "source": [
    "What is an iterator in python? Name the method used to initialise the iterator object and the method\n",
    "used for iteration. Use these methods to print the first five elements of the given list [2, 4, 6, 8, 10, 12, 14,\n",
    "16, 18, 20]."
   ]
  },
  {
   "cell_type": "markdown",
   "id": "60ba6cfd-df5a-40a3-9d8b-bcabc759a9b6",
   "metadata": {},
   "source": [
    "An iterator is an object that contains a countable number in values. An iterator is an object that can be iterated upon, means that you can traverse through all the values, its consist the method of _iter_()_and_next()"
   ]
  },
  {
   "cell_type": "code",
   "execution_count": 15,
   "id": "84183a4c-b581-4266-989b-74fe524ecce3",
   "metadata": {},
   "outputs": [
    {
     "name": "stdout",
     "output_type": "stream",
     "text": [
      "2\n",
      "4\n",
      "6\n",
      "8\n",
      "10\n"
     ]
    }
   ],
   "source": [
    "mylist = [2,4,6,8,10,12,14,16,18,20]\n",
    "for i in range(5):\n",
    "    print(mylist[i])"
   ]
  },
  {
   "cell_type": "code",
   "execution_count": 18,
   "id": "b46ef376-36f8-4a99-baf3-9ff8fffbf89c",
   "metadata": {},
   "outputs": [
    {
     "name": "stdout",
     "output_type": "stream",
     "text": [
      "2\n",
      "4\n",
      "6\n",
      "8\n",
      "10\n"
     ]
    }
   ],
   "source": [
    "myiterator=iter(mylist)\n",
    "for i in range(5):\n",
    "    print(next(myiterator))"
   ]
  },
  {
   "cell_type": "markdown",
   "id": "456a739c-d7e2-49c9-98c2-b098754e84a9",
   "metadata": {},
   "source": [
    "What is a generator function in python? Why yield keyword is used? Give an example of a generator\n",
    "function."
   ]
  },
  {
   "cell_type": "markdown",
   "id": "7b43f08a-5152-4773-b00e-df081669e65c",
   "metadata": {},
   "source": [
    "Generator function is a special type of function that return an iterator object which can be iterated over to produce a sequance of value.In generator will use \"yield\" keyword "
   ]
  },
  {
   "cell_type": "code",
   "execution_count": 26,
   "id": "9ee8a5f6-4e8d-4db0-b0b8-6b5ddfa06600",
   "metadata": {},
   "outputs": [
    {
     "name": "stdout",
     "output_type": "stream",
     "text": [
      "0\n",
      "1\n",
      "4\n",
      "9\n",
      "16\n"
     ]
    }
   ],
   "source": [
    "def square(n):\n",
    "    for i in range(5):\n",
    "        yield i**2\n",
    "for squarenum in square(5):\n",
    "        print(squarenum) "
   ]
  },
  {
   "cell_type": "markdown",
   "id": "449082db-ec5a-4b25-b1b6-6b0260262547",
   "metadata": {},
   "source": [
    "Create a generator function for prime numbers less than 1000. Use the next() method to print the\n",
    "first 20 prime numbers."
   ]
  },
  {
   "cell_type": "code",
   "execution_count": 29,
   "id": "99c3b637-bc66-489b-8c8c-44f6ca8c5fa5",
   "metadata": {},
   "outputs": [
    {
     "name": "stdout",
     "output_type": "stream",
     "text": [
      "2\n",
      "3\n",
      "5\n",
      "7\n",
      "11\n",
      "13\n",
      "17\n",
      "19\n",
      "23\n",
      "29\n",
      "31\n",
      "37\n",
      "41\n",
      "43\n",
      "47\n",
      "53\n",
      "59\n",
      "61\n",
      "67\n",
      "71\n"
     ]
    }
   ],
   "source": [
    "def primes():\n",
    "    primes_list = [2, 3]\n",
    "    yield 2\n",
    "    yield 3\n",
    "\n",
    "    \n",
    "    for num in range(5, 1000, 2):\n",
    "        is_prime = True\n",
    "        for prime in primes_list:\n",
    "            if prime * prime > num:\n",
    "                break\n",
    "            if num % prime == 0:\n",
    "                is_prime = False\n",
    "                break\n",
    "        if is_prime:\n",
    "            primes_list.append(num)\n",
    "            yield num\n",
    "\n",
    "\n",
    "prime_gen = primes()\n",
    "for i in range(20):\n",
    "    print(next(prime_gen))\n"
   ]
  },
  {
   "cell_type": "markdown",
   "id": "fc386670-5c28-423a-89fa-64c44ac81b16",
   "metadata": {},
   "source": [
    "Write a python program to print the first 10 Fibonacci numbers using a while loop."
   ]
  },
  {
   "cell_type": "code",
   "execution_count": 41,
   "id": "78b0cb86-3d7c-4cc9-89ee-6a32033645f3",
   "metadata": {},
   "outputs": [
    {
     "name": "stdout",
     "output_type": "stream",
     "text": [
      "0\n",
      "1\n",
      "1\n",
      "2\n",
      "3\n",
      "5\n",
      "8\n",
      "13\n",
      "21\n",
      "34\n"
     ]
    }
   ],
   "source": [
    "a,b = 0, 1\n",
    "count = 0\n",
    "while count < 10:\n",
    "    print(a)\n",
    "    c = a + b\n",
    "    a = b\n",
    "    b = c\n",
    "    count +=1"
   ]
  },
  {
   "cell_type": "markdown",
   "id": "27a9b67f-49ab-4356-901d-e2f6d97f2f8f",
   "metadata": {},
   "source": [
    "Write a List Comprehension to iterate through the given string: ‘pwskills’.\n",
    "Expected output: ['p', 'w', 's', 'k', 'i', 'l', 'l', 's']"
   ]
  },
  {
   "cell_type": "code",
   "execution_count": 42,
   "id": "3a7a8f0a-d2df-416d-81c9-f6d189e6cefc",
   "metadata": {},
   "outputs": [
    {
     "name": "stdout",
     "output_type": "stream",
     "text": [
      "['p', 'w', 's', 'k', 'i', 'l', 'l', 's']\n"
     ]
    }
   ],
   "source": [
    "string = 'pwskills'\n",
    "result = [char for char in string if char in 'pwskill']\n",
    "print(result)"
   ]
  },
  {
   "cell_type": "markdown",
   "id": "e5970035-633f-44e3-aa0f-d00ba26cbc33",
   "metadata": {},
   "source": [
    "Write a python program to check whether a given number is Palindrome or not using a while loop."
   ]
  },
  {
   "cell_type": "code",
   "execution_count": 44,
   "id": "385b2d58-bf71-4d1e-b8f3-d4cc2fcf921b",
   "metadata": {},
   "outputs": [
    {
     "name": "stdin",
     "output_type": "stream",
     "text": [
      "Enter a number:  222\n"
     ]
    },
    {
     "name": "stdout",
     "output_type": "stream",
     "text": [
      "222 is a palindrome\n"
     ]
    }
   ],
   "source": [
    "num = int(input(\"Enter a number: \"))\n",
    "temp = num\n",
    "rev_num = 0\n",
    "\n",
    "while temp > 0:\n",
    "    digit = temp % 10\n",
    "    rev_num = rev_num * 10 + digit\n",
    "    temp = temp // 10\n",
    "\n",
    "if num == rev_num:\n",
    "    print(num, \"is a palindrome\")\n",
    "else:\n",
    "    print(num, \"is not a palindrome\")\n"
   ]
  },
  {
   "cell_type": "markdown",
   "id": "7bb8141b-0cf6-456a-a6e1-88218e035fae",
   "metadata": {},
   "source": [
    "Write a code to print odd numbers from 1 to 100 using list comprehension.\n",
    "Note: Use a list comprehension to create a list from 1 to 100 and use another List comprehension to filter\n",
    "out odd numbers."
   ]
  },
  {
   "cell_type": "code",
   "execution_count": null,
   "id": "b42b47da-dfe0-4737-952b-6ae22bbc5468",
   "metadata": {},
   "outputs": [],
   "source": [
    "oddnum = [num for num in range()]"
   ]
  }
 ],
 "metadata": {
  "kernelspec": {
   "display_name": "Python 3 (ipykernel)",
   "language": "python",
   "name": "python3"
  },
  "language_info": {
   "codemirror_mode": {
    "name": "ipython",
    "version": 3
   },
   "file_extension": ".py",
   "mimetype": "text/x-python",
   "name": "python",
   "nbconvert_exporter": "python",
   "pygments_lexer": "ipython3",
   "version": "3.10.8"
  }
 },
 "nbformat": 4,
 "nbformat_minor": 5
}
